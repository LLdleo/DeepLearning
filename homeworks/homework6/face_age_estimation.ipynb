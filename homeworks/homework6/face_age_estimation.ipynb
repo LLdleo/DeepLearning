{
 "cells": [
  {
   "cell_type": "markdown",
   "metadata": {},
   "source": [
    "__Import Packages__"
   ]
  },
  {
   "cell_type": "code",
   "execution_count": 25,
   "metadata": {},
   "outputs": [],
   "source": [
    "import tensorflow as tf\n",
    "import numpy as np\n",
    "import matplotlib.pyplot as plt"
   ]
  },
  {
   "cell_type": "markdown",
   "metadata": {},
   "source": [
    "__Load and Convert data__"
   ]
  },
  {
   "cell_type": "code",
   "execution_count": 26,
   "metadata": {},
   "outputs": [
    {
     "name": "stdout",
     "output_type": "stream",
     "text": [
      "(7500, 48, 48)\n",
      "(7500,)\n"
     ]
    }
   ],
   "source": [
    "faces = np.load('./data/faces.npy')\n",
    "ages = np.load('./data/ages.npy')\n",
    "print(faces.shape)\n",
    "print(ages.shape)"
   ]
  },
  {
   "cell_type": "code",
   "execution_count": 31,
   "metadata": {},
   "outputs": [
    {
     "data": {
      "text/plain": [
       "<matplotlib.image.AxesImage at 0x1c4cbb92dc8>"
      ]
     },
     "execution_count": 31,
     "metadata": {},
     "output_type": "execute_result"
    },
    {
     "data": {
      "image/png": "[encoded data removed]",
      "text/plain": [
       "<Figure size 432x288 with 1 Axes>"
      ]
     },
     "metadata": {
      "needs_background": "light"
     },
     "output_type": "display_data"
    }
   ],
   "source": [
    "img_index = 2020\n",
    "plt.imshow(faces[img_index])"
   ]
  },
  {
   "cell_type": "code",
   "execution_count": 30,
   "metadata": {},
   "outputs": [],
   "source": [
    "np.random.seed(2020)\n",
    "faces = np.random.permutation(faces)\n",
    "np.random.seed(2020)\n",
    "ages = np.random.permutation(ages)"
   ]
  },
  {
   "cell_type": "code",
   "execution_count": 32,
   "metadata": {},
   "outputs": [],
   "source": [
    "faces = faces.astype('float32') / 255\n",
    "faces = faces.reshape((faces.shape[0], 48, 48, 1))\n",
    "ages = tf.keras.utils.to_categorical(ages)"
   ]
  },
  {
   "cell_type": "code",
   "execution_count": 33,
   "metadata": {},
   "outputs": [],
   "source": [
    "faces_train = faces[0:6000]\n",
    "faces_val = faces[6000:]\n",
    "ages_train = ages[0:6000]\n",
    "ages_val = ages[6000:]"
   ]
  },
  {
   "cell_type": "markdown",
   "metadata": {},
   "source": [
    "__Build the Model__"
   ]
  },
  {
   "cell_type": "code",
   "execution_count": 38,
   "metadata": {},
   "outputs": [
    {
     "name": "stdout",
     "output_type": "stream",
     "text": [
      "Model: \"sequential_4\"\n",
      "_________________________________________________________________\n",
      "Layer (type)                 Output Shape              Param #   \n",
      "=================================================================\n",
      "conv2d_12 (Conv2D)           (None, 48, 48, 16)        80        \n",
      "_________________________________________________________________\n",
      "max_pooling2d_12 (MaxPooling (None, 24, 24, 16)        0         \n",
      "_________________________________________________________________\n",
      "batch_normalization_3 (Batch (None, 24, 24, 16)        64        \n",
      "_________________________________________________________________\n",
      "conv2d_13 (Conv2D)           (None, 24, 24, 32)        2080      \n",
      "_________________________________________________________________\n",
      "max_pooling2d_13 (MaxPooling (None, 12, 12, 32)        0         \n",
      "_________________________________________________________________\n",
      "dropout_10 (Dropout)         (None, 12, 12, 32)        0         \n",
      "_________________________________________________________________\n",
      "conv2d_14 (Conv2D)           (None, 12, 12, 32)        4128      \n",
      "_________________________________________________________________\n",
      "max_pooling2d_14 (MaxPooling (None, 6, 6, 32)          0         \n",
      "_________________________________________________________________\n",
      "dropout_11 (Dropout)         (None, 6, 6, 32)          0         \n",
      "_________________________________________________________________\n",
      "flatten_4 (Flatten)          (None, 1152)              0         \n",
      "_________________________________________________________________\n",
      "dense_8 (Dense)              (None, 256)               295168    \n",
      "_________________________________________________________________\n",
      "dropout_12 (Dropout)         (None, 256)               0         \n",
      "_________________________________________________________________\n",
      "dense_9 (Dense)              (None, 101)               25957     \n",
      "=================================================================\n",
      "Total params: 327,477\n",
      "Trainable params: 327,445\n",
      "Non-trainable params: 32\n",
      "_________________________________________________________________\n"
     ]
    }
   ],
   "source": [
    "model = tf.keras.Sequential()\n",
    "# Must define the input shape in the first layer of the neural network\n",
    "model.add(tf.keras.layers.Conv2D(filters=16, kernel_size=(2,2), padding='same', activation='relu', input_shape=(48,48,1))) \n",
    "model.add(tf.keras.layers.MaxPooling2D(pool_size=(2,2)))\n",
    "# model.add(tf.keras.layers.Dropout(0.3))\n",
    "\n",
    "model.add(tf.keras.layers.BatchNormalization())\n",
    "\n",
    "model.add(tf.keras.layers.Conv2D(filters=32, kernel_size=(2,2), padding='same', activation='relu')) \n",
    "model.add(tf.keras.layers.MaxPooling2D(pool_size=(2,2)))\n",
    "model.add(tf.keras.layers.Dropout(0.3))\n",
    "\n",
    "model.add(tf.keras.layers.Conv2D(filters=32, kernel_size=(2,2), padding='same', activation='relu')) \n",
    "model.add(tf.keras.layers.MaxPooling2D(pool_size=(2,2)))\n",
    "model.add(tf.keras.layers.Dropout(0.3))\n",
    "\n",
    "model.add(tf.keras.layers.Flatten())\n",
    "model.add(tf.keras.layers.Dense(256, activation='relu'))\n",
    "model.add(tf.keras.layers.Dropout(0.3))\n",
    "model.add(tf.keras.layers.Dense(101, activation='softmax'))\n",
    "# Take a look at the model summary\n",
    "model.summary()"
   ]
  },
  {
   "cell_type": "code",
   "execution_count": 39,
   "metadata": {},
   "outputs": [],
   "source": [
    "# compile the model\n",
    "model.compile(loss='categorical_crossentropy',\n",
    "             optimizer='adam',\n",
    "             metrics=['accuracy'])"
   ]
  },
  {
   "cell_type": "code",
   "execution_count": 43,
   "metadata": {
    "scrolled": false
   },
   "outputs": [
    {
     "name": "stdout",
     "output_type": "stream",
     "text": [
      "Train on 6000 samples, validate on 1500 samples\n",
      "Epoch 1/10\n",
      "6000/6000 [==============================] - 0s 76us/sample - loss: 2.5828 - accuracy: 0.2853 - val_loss: 4.0814 - val_accuracy: 0.0627\n",
      "Epoch 2/10\n",
      "6000/6000 [==============================] - 0s 74us/sample - loss: 2.5841 - accuracy: 0.2865 - val_loss: 4.0863 - val_accuracy: 0.0667\n",
      "Epoch 3/10\n",
      "6000/6000 [==============================] - 0s 74us/sample - loss: 2.5399 - accuracy: 0.2908 - val_loss: 4.1319 - val_accuracy: 0.0673\n",
      "Epoch 4/10\n",
      "6000/6000 [==============================] - 0s 72us/sample - loss: 2.4744 - accuracy: 0.3128 - val_loss: 4.1887 - val_accuracy: 0.0593\n",
      "Epoch 5/10\n",
      "6000/6000 [==============================] - 0s 73us/sample - loss: 2.4384 - accuracy: 0.3223 - val_loss: 4.1216 - val_accuracy: 0.0580\n",
      "Epoch 6/10\n",
      "6000/6000 [==============================] - 0s 72us/sample - loss: 2.3879 - accuracy: 0.3315 - val_loss: 4.1923 - val_accuracy: 0.0600\n",
      "Epoch 7/10\n",
      "6000/6000 [==============================] - 0s 76us/sample - loss: 2.3563 - accuracy: 0.3445 - val_loss: 4.2136 - val_accuracy: 0.0653\n",
      "Epoch 8/10\n",
      "6000/6000 [==============================] - 0s 75us/sample - loss: 2.3639 - accuracy: 0.3477 - val_loss: 4.2009 - val_accuracy: 0.0607\n",
      "Epoch 9/10\n",
      "6000/6000 [==============================] - 0s 74us/sample - loss: 2.3125 - accuracy: 0.3510 - val_loss: 4.2074 - val_accuracy: 0.0693\n",
      "Epoch 10/10\n",
      "6000/6000 [==============================] - 0s 77us/sample - loss: 2.2509 - accuracy: 0.3655 - val_loss: 4.2954 - val_accuracy: 0.0653\n"
     ]
    },
    {
     "data": {
      "text/plain": [
       "<tensorflow.python.keras.callbacks.History at 0x1c2a1a08a08>"
      ]
     },
     "execution_count": 43,
     "metadata": {},
     "output_type": "execute_result"
    }
   ],
   "source": [
    "# train the model\n",
    "model.fit(faces_train,\n",
    "          ages_train,\n",
    "          batch_size=64,\n",
    "          epochs=10,\n",
    "          validation_data=(faces_val, ages_val))"
   ]
  },
  {
   "cell_type": "code",
   "execution_count": 20,
   "metadata": {},
   "outputs": [],
   "source": [
    "score = model.evaluate(faces_val, ages_val, verbose=0)"
   ]
  },
  {
   "cell_type": "code",
   "execution_count": 21,
   "metadata": {},
   "outputs": [
    {
     "data": {
      "text/plain": [
       "0.06533334"
      ]
     },
     "execution_count": 21,
     "metadata": {},
     "output_type": "execute_result"
    }
   ],
   "source": [
    "score[1]"
   ]
  },
  {
   "cell_type": "code",
   "execution_count": 24,
   "metadata": {},
   "outputs": [
    {
     "data": {
      "text/plain": [
       "[<matplotlib.lines.Line2D at 0x1c4c6a6e788>,\n",
       " <matplotlib.lines.Line2D at 0x1c4c6a6c088>,\n",
       " <matplotlib.lines.Line2D at 0x1c4c6a67cc8>,\n",
       " <matplotlib.lines.Line2D at 0x1c4c6a67e08>,\n",
       " <matplotlib.lines.Line2D at 0x1c4c6a678c8>,\n",
       " <matplotlib.lines.Line2D at 0x1c4c6a67148>,\n",
       " <matplotlib.lines.Line2D at 0x1c4c6a69fc8>,\n",
       " <matplotlib.lines.Line2D at 0x1c4c6a69f88>,\n",
       " <matplotlib.lines.Line2D at 0x1c4c6a67ac8>,\n",
       " <matplotlib.lines.Line2D at 0x1c4c6a67048>,\n",
       " <matplotlib.lines.Line2D at 0x1c4c6a781c8>,\n",
       " <matplotlib.lines.Line2D at 0x1c4c6a6b848>,\n",
       " <matplotlib.lines.Line2D at 0x1c4c6a6b948>,\n",
       " <matplotlib.lines.Line2D at 0x1c4c6a68748>,\n",
       " <matplotlib.lines.Line2D at 0x1c4c6a68c48>,\n",
       " <matplotlib.lines.Line2D at 0x1c4c6a68b48>,\n",
       " <matplotlib.lines.Line2D at 0x1c4c6a682c8>,\n",
       " <matplotlib.lines.Line2D at 0x1c4c6a66848>,\n",
       " <matplotlib.lines.Line2D at 0x1c4c6a66708>,\n",
       " <matplotlib.lines.Line2D at 0x1c4c6a661c8>,\n",
       " <matplotlib.lines.Line2D at 0x1c4c6a662c8>,\n",
       " <matplotlib.lines.Line2D at 0x1c4c6a61b08>,\n",
       " <matplotlib.lines.Line2D at 0x1c4c6a61e88>,\n",
       " <matplotlib.lines.Line2D at 0x1c4c66e7a88>,\n",
       " <matplotlib.lines.Line2D at 0x1c4c60ae508>,\n",
       " <matplotlib.lines.Line2D at 0x1c4c60ca808>,\n",
       " <matplotlib.lines.Line2D at 0x1c4c7d77b48>,\n",
       " <matplotlib.lines.Line2D at 0x1c4c7d77d08>,\n",
       " <matplotlib.lines.Line2D at 0x1c4c6a7e3c8>,\n",
       " <matplotlib.lines.Line2D at 0x1c4c7c6d8c8>,\n",
       " <matplotlib.lines.Line2D at 0x1c4c7c6a788>,\n",
       " <matplotlib.lines.Line2D at 0x1c4c626ab48>,\n",
       " <matplotlib.lines.Line2D at 0x1c4c7d90988>,\n",
       " <matplotlib.lines.Line2D at 0x1c4c7d90248>,\n",
       " <matplotlib.lines.Line2D at 0x1c4c7d904c8>,\n",
       " <matplotlib.lines.Line2D at 0x1c4c7d90748>,\n",
       " <matplotlib.lines.Line2D at 0x1c4c7d9c748>,\n",
       " <matplotlib.lines.Line2D at 0x1c4c7d9c948>,\n",
       " <matplotlib.lines.Line2D at 0x1c4c7d9cbc8>,\n",
       " <matplotlib.lines.Line2D at 0x1c4c7d9ce48>,\n",
       " <matplotlib.lines.Line2D at 0x1c4c7eb9108>,\n",
       " <matplotlib.lines.Line2D at 0x1c4c7eb9388>,\n",
       " <matplotlib.lines.Line2D at 0x1c4c7eb9608>,\n",
       " <matplotlib.lines.Line2D at 0x1c4c7eb9888>,\n",
       " <matplotlib.lines.Line2D at 0x1c4c7eb9b08>,\n",
       " <matplotlib.lines.Line2D at 0x1c4c7eb9d88>,\n",
       " <matplotlib.lines.Line2D at 0x1c4c7ebc048>,\n",
       " <matplotlib.lines.Line2D at 0x1c4c7ebc2c8>,\n",
       " <matplotlib.lines.Line2D at 0x1c4c7ebc548>,\n",
       " <matplotlib.lines.Line2D at 0x1c4c7ebc7c8>,\n",
       " <matplotlib.lines.Line2D at 0x1c4c7ebca48>,\n",
       " <matplotlib.lines.Line2D at 0x1c4c7ebccc8>,\n",
       " <matplotlib.lines.Line2D at 0x1c4c7ebcf48>,\n",
       " <matplotlib.lines.Line2D at 0x1c4c7ebf208>,\n",
       " <matplotlib.lines.Line2D at 0x1c4c7ebf488>,\n",
       " <matplotlib.lines.Line2D at 0x1c4c7ebf708>,\n",
       " <matplotlib.lines.Line2D at 0x1c4c7ebf988>,\n",
       " <matplotlib.lines.Line2D at 0x1c4c7ebfc08>,\n",
       " <matplotlib.lines.Line2D at 0x1c4c7ebfe88>,\n",
       " <matplotlib.lines.Line2D at 0x1c4c7ec2148>,\n",
       " <matplotlib.lines.Line2D at 0x1c4c7ec23c8>,\n",
       " <matplotlib.lines.Line2D at 0x1c4c7ec2648>,\n",
       " <matplotlib.lines.Line2D at 0x1c4c7ec28c8>,\n",
       " <matplotlib.lines.Line2D at 0x1c4c7ec2b48>,\n",
       " <matplotlib.lines.Line2D at 0x1c4c7ec2dc8>,\n",
       " <matplotlib.lines.Line2D at 0x1c4c7ec5088>,\n",
       " <matplotlib.lines.Line2D at 0x1c4c7ec5308>,\n",
       " <matplotlib.lines.Line2D at 0x1c4c7ec5588>,\n",
       " <matplotlib.lines.Line2D at 0x1c4c7ec5808>,\n",
       " <matplotlib.lines.Line2D at 0x1c4c7ec5a88>,\n",
       " <matplotlib.lines.Line2D at 0x1c4c7ec5d08>,\n",
       " <matplotlib.lines.Line2D at 0x1c4c7ec5f88>,\n",
       " <matplotlib.lines.Line2D at 0x1c4c7ec7248>,\n",
       " <matplotlib.lines.Line2D at 0x1c4c7ec74c8>,\n",
       " <matplotlib.lines.Line2D at 0x1c4c7ec7748>,\n",
       " <matplotlib.lines.Line2D at 0x1c4c7ec79c8>,\n",
       " <matplotlib.lines.Line2D at 0x1c4c7ec7c48>,\n",
       " <matplotlib.lines.Line2D at 0x1c4c7ec7ec8>,\n",
       " <matplotlib.lines.Line2D at 0x1c4c7eca188>,\n",
       " <matplotlib.lines.Line2D at 0x1c4c7eca408>,\n",
       " <matplotlib.lines.Line2D at 0x1c4c7eca688>,\n",
       " <matplotlib.lines.Line2D at 0x1c4c7eca908>,\n",
       " <matplotlib.lines.Line2D at 0x1c4c7ecab88>,\n",
       " <matplotlib.lines.Line2D at 0x1c4c7ecae08>,\n",
       " <matplotlib.lines.Line2D at 0x1c4c7ecd0c8>,\n",
       " <matplotlib.lines.Line2D at 0x1c4c7ecd348>,\n",
       " <matplotlib.lines.Line2D at 0x1c4c7ecd5c8>,\n",
       " <matplotlib.lines.Line2D at 0x1c4c7ecd848>,\n",
       " <matplotlib.lines.Line2D at 0x1c4c7ecdac8>,\n",
       " <matplotlib.lines.Line2D at 0x1c4c7ecdd48>,\n",
       " <matplotlib.lines.Line2D at 0x1c4c7ecdfc8>,\n",
       " <matplotlib.lines.Line2D at 0x1c4c7ed1288>,\n",
       " <matplotlib.lines.Line2D at 0x1c4c7ed1508>,\n",
       " <matplotlib.lines.Line2D at 0x1c4c7ed1788>,\n",
       " <matplotlib.lines.Line2D at 0x1c4c7ed1a08>,\n",
       " <matplotlib.lines.Line2D at 0x1c4c7ed1c88>,\n",
       " <matplotlib.lines.Line2D at 0x1c4c7ed1f08>,\n",
       " <matplotlib.lines.Line2D at 0x1c4c7ed41c8>,\n",
       " <matplotlib.lines.Line2D at 0x1c4c7ed4448>,\n",
       " <matplotlib.lines.Line2D at 0x1c4c7ed46c8>,\n",
       " <matplotlib.lines.Line2D at 0x1c4c7ed4948>]"
      ]
     },
     "execution_count": 24,
     "metadata": {},
     "output_type": "execute_result"
    },
    {
     "data": {
      "image/png": "[encoded data removed]",
      "text/plain": [
       "<Figure size 432x288 with 1 Axes>"
      ]
     },
     "metadata": {
      "needs_background": "light"
     },
     "output_type": "display_data"
    }
   ],
   "source": [
    "plt.plot(ages.)"
   ]
  },
  {
   "cell_type": "code",
   "execution_count": null,
   "metadata": {},
   "outputs": [],
   "source": []
  }
 ],
 "metadata": {
  "kernelspec": {
   "display_name": "TensorFlow 2.0",
   "language": "python",
   "name": "tensorflow"
  },
  "language_info": {
   "codemirror_mode": {
    "name": "ipython",
    "version": 3
   },
   "file_extension": ".py",
   "mimetype": "text/x-python",
   "name": "python",
   "nbconvert_exporter": "python",
   "pygments_lexer": "ipython3",
   "version": "3.7.5"
  }
 },
 "nbformat": 4,
 "nbformat_minor": 2
}
