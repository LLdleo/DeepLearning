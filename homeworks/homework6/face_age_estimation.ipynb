{
 "cells": [
  {
   "cell_type": "markdown",
   "metadata": {},
   "source": [
    "__Import Packages__"
   ]
  },
  {
   "cell_type": "code",
   "execution_count": 1,
   "metadata": {},
   "outputs": [],
   "source": [
    "import tensorflow as tf\n",
    "import numpy as np\n",
    "import matplotlib.pyplot as plt"
   ]
  },
  {
   "cell_type": "markdown",
   "metadata": {},
   "source": [
    "__Load and Convert data__"
   ]
  },
  {
   "cell_type": "code",
   "execution_count": 2,
   "metadata": {},
   "outputs": [
    {
     "name": "stdout",
     "output_type": "stream",
     "text": [
      "(7500, 48, 48)\n",
      "(7500,)\n"
     ]
    }
   ],
   "source": [
    "faces = np.load('./data/faces.npy')\n",
    "ages = np.load('./data/ages.npy')\n",
    "print(faces.shape)\n",
    "print(ages.shape)"
   ]
  },
  {
   "cell_type": "code",
   "execution_count": 3,
   "metadata": {},
   "outputs": [
    {
     "data": {
      "text/plain": [
       "<matplotlib.image.AxesImage at 0x1c29a0d6e08>"
      ]
     },
     "execution_count": 3,
     "metadata": {},
     "output_type": "execute_result"
    },
    {
     "data": {
      "image/png": "[encoded data removed]",
      "text/plain": [
       "<Figure size 432x288 with 1 Axes>"
      ]
     },
     "metadata": {
      "needs_background": "light"
     },
     "output_type": "display_data"
    }
   ],
   "source": [
    "img_index = 2020\n",
    "plt.imshow(faces[img_index])"
   ]
  },
  {
   "cell_type": "code",
   "execution_count": 4,
   "metadata": {},
   "outputs": [],
   "source": [
    "faces = faces.astype('float32') / 255\n",
    "faces = faces.reshape((faces.shape[0], 48, 48, 1))\n",
    "ages = tf.keras.utils.to_categorical(ages)"
   ]
  },
  {
   "cell_type": "code",
   "execution_count": 5,
   "metadata": {},
   "outputs": [],
   "source": [
    "faces_train = faces[0:6000]\n",
    "faces_val = faces[6000:]\n",
    "ages_train = ages[0:6000]\n",
    "ages_val = ages[6000:]"
   ]
  },
  {
   "cell_type": "markdown",
   "metadata": {},
   "source": [
    "__Build the Model__"
   ]
  },
  {
   "cell_type": "code",
   "execution_count": 17,
   "metadata": {},
   "outputs": [
    {
     "name": "stdout",
     "output_type": "stream",
     "text": [
      "Model: \"sequential_2\"\n",
      "_________________________________________________________________\n",
      "Layer (type)                 Output Shape              Param #   \n",
      "=================================================================\n",
      "conv2d_6 (Conv2D)            (None, 48, 48, 16)        80        \n",
      "_________________________________________________________________\n",
      "max_pooling2d_6 (MaxPooling2 (None, 24, 24, 16)        0         \n",
      "_________________________________________________________________\n",
      "batch_normalization_1 (Batch (None, 24, 24, 16)        64        \n",
      "_________________________________________________________________\n",
      "conv2d_7 (Conv2D)            (None, 24, 24, 32)        2080      \n",
      "_________________________________________________________________\n",
      "max_pooling2d_7 (MaxPooling2 (None, 12, 12, 32)        0         \n",
      "_________________________________________________________________\n",
      "conv2d_8 (Conv2D)            (None, 12, 12, 32)        4128      \n",
      "_________________________________________________________________\n",
      "max_pooling2d_8 (MaxPooling2 (None, 6, 6, 32)          0         \n",
      "_________________________________________________________________\n",
      "flatten_2 (Flatten)          (None, 1152)              0         \n",
      "_________________________________________________________________\n",
      "dense_4 (Dense)              (None, 256)               295168    \n",
      "_________________________________________________________________\n",
      "dropout_8 (Dropout)          (None, 256)               0         \n",
      "_________________________________________________________________\n",
      "dense_5 (Dense)              (None, 101)               25957     \n",
      "=================================================================\n",
      "Total params: 327,477\n",
      "Trainable params: 327,445\n",
      "Non-trainable params: 32\n",
      "_________________________________________________________________\n"
     ]
    }
   ],
   "source": [
    "model = tf.keras.Sequential()\n",
    "# Must define the input shape in the first layer of the neural network\n",
    "model.add(tf.keras.layers.Conv2D(filters=16, kernel_size=(2,2), padding='same', activation='relu', input_shape=(48,48,1))) \n",
    "model.add(tf.keras.layers.MaxPooling2D(pool_size=(2,2)))\n",
    "# model.add(tf.keras.layers.Dropout(0.3))\n",
    "\n",
    "model.add(tf.keras.layers.BatchNormalization())\n",
    "\n",
    "model.add(tf.keras.layers.Conv2D(filters=32, kernel_size=(2,2), padding='same', activation='relu')) \n",
    "model.add(tf.keras.layers.MaxPooling2D(pool_size=(2,2)))\n",
    "# model.add(tf.keras.layers.Dropout(0.3))\n",
    "\n",
    "model.add(tf.keras.layers.Conv2D(filters=32, kernel_size=(2,2), padding='same', activation='relu')) \n",
    "model.add(tf.keras.layers.MaxPooling2D(pool_size=(2,2)))\n",
    "# model.add(tf.keras.layers.Dropout(0.3))\n",
    "\n",
    "model.add(tf.keras.layers.Flatten())\n",
    "model.add(tf.keras.layers.Dense(256, activation='relu'))\n",
    "model.add(tf.keras.layers.Dropout(0.3))\n",
    "model.add(tf.keras.layers.Dense(101, activation='softmax'))\n",
    "# Take a look at the model summary\n",
    "model.summary()"
   ]
  },
  {
   "cell_type": "code",
   "execution_count": 18,
   "metadata": {},
   "outputs": [],
   "source": [
    "# compile the model\n",
    "model.compile(loss='categorical_crossentropy',\n",
    "             optimizer='adam',\n",
    "             metrics=['accuracy'])"
   ]
  },
  {
   "cell_type": "code",
   "execution_count": 22,
   "metadata": {
    "scrolled": false
   },
   "outputs": [
    {
     "name": "stdout",
     "output_type": "stream",
     "text": [
      "Train on 6000 samples, validate on 1500 samples\n",
      "Epoch 1/10\n",
      "6000/6000 [==============================] - 3s 551us/sample - loss: 2.3964 - accuracy: 0.3290 - val_loss: 4.4837 - val_accuracy: 0.0700\n",
      "Epoch 2/10\n",
      "6000/6000 [==============================] - 3s 547us/sample - loss: 2.1404 - accuracy: 0.3990 - val_loss: 4.7068 - val_accuracy: 0.0680\n",
      "Epoch 3/10\n",
      "6000/6000 [==============================] - 3s 545us/sample - loss: 1.8686 - accuracy: 0.4640 - val_loss: 4.9388 - val_accuracy: 0.0620\n",
      "Epoch 4/10\n",
      "6000/6000 [==============================] - 3s 556us/sample - loss: 1.6276 - accuracy: 0.5222 - val_loss: 5.3144 - val_accuracy: 0.0587\n",
      "Epoch 5/10\n",
      "6000/6000 [==============================] - 3s 563us/sample - loss: 1.4158 - accuracy: 0.5833 - val_loss: 5.4920 - val_accuracy: 0.0647\n",
      "Epoch 6/10\n",
      "6000/6000 [==============================] - 3s 542us/sample - loss: 1.2111 - accuracy: 0.6375 - val_loss: 6.1032 - val_accuracy: 0.0593\n",
      "Epoch 7/10\n",
      "6000/6000 [==============================] - 3s 552us/sample - loss: 1.0595 - accuracy: 0.6855 - val_loss: 6.3537 - val_accuracy: 0.0633\n",
      "Epoch 8/10\n",
      "6000/6000 [==============================] - 3s 551us/sample - loss: 0.9402 - accuracy: 0.7175 - val_loss: 6.9620 - val_accuracy: 0.0573\n",
      "Epoch 9/10\n",
      "6000/6000 [==============================] - 3s 539us/sample - loss: 0.8426 - accuracy: 0.7440 - val_loss: 7.0332 - val_accuracy: 0.0647\n",
      "Epoch 10/10\n",
      "6000/6000 [==============================] - 3s 542us/sample - loss: 0.7347 - accuracy: 0.7788 - val_loss: 7.0303 - val_accuracy: 0.0573\n"
     ]
    },
    {
     "data": {
      "text/plain": [
       "<tensorflow.python.keras.callbacks.History at 0x1c4c7d11cc8>"
      ]
     },
     "execution_count": 22,
     "metadata": {},
     "output_type": "execute_result"
    }
   ],
   "source": [
    "# train the model\n",
    "model.fit(faces_train,\n",
    "          ages_train,\n",
    "          batch_size=32,\n",
    "          epochs=10,\n",
    "          validation_data=(faces_val, ages_val))"
   ]
  },
  {
   "cell_type": "code",
   "execution_count": 20,
   "metadata": {},
   "outputs": [],
   "source": [
    "score = model.evaluate(faces_val, ages_val, verbose=0)"
   ]
  },
  {
   "cell_type": "code",
   "execution_count": 21,
   "metadata": {},
   "outputs": [
    {
     "data": {
      "text/plain": [
       "0.06533334"
      ]
     },
     "execution_count": 21,
     "metadata": {},
     "output_type": "execute_result"
    }
   ],
   "source": [
    "score[1]"
   ]
  },
  {
   "cell_type": "code",
   "execution_count": 24,
   "metadata": {},
   "outputs": [
    {
     "data": {
      "text/plain": [
       "[<matplotlib.lines.Line2D at 0x1c4c6a6e788>,\n",
       " <matplotlib.lines.Line2D at 0x1c4c6a6c088>,\n",
       " <matplotlib.lines.Line2D at 0x1c4c6a67cc8>,\n",
       " <matplotlib.lines.Line2D at 0x1c4c6a67e08>,\n",
       " <matplotlib.lines.Line2D at 0x1c4c6a678c8>,\n",
       " <matplotlib.lines.Line2D at 0x1c4c6a67148>,\n",
       " <matplotlib.lines.Line2D at 0x1c4c6a69fc8>,\n",
       " <matplotlib.lines.Line2D at 0x1c4c6a69f88>,\n",
       " <matplotlib.lines.Line2D at 0x1c4c6a67ac8>,\n",
       " <matplotlib.lines.Line2D at 0x1c4c6a67048>,\n",
       " <matplotlib.lines.Line2D at 0x1c4c6a781c8>,\n",
       " <matplotlib.lines.Line2D at 0x1c4c6a6b848>,\n",
       " <matplotlib.lines.Line2D at 0x1c4c6a6b948>,\n",
       " <matplotlib.lines.Line2D at 0x1c4c6a68748>,\n",
       " <matplotlib.lines.Line2D at 0x1c4c6a68c48>,\n",
       " <matplotlib.lines.Line2D at 0x1c4c6a68b48>,\n",
       " <matplotlib.lines.Line2D at 0x1c4c6a682c8>,\n",
       " <matplotlib.lines.Line2D at 0x1c4c6a66848>,\n",
       " <matplotlib.lines.Line2D at 0x1c4c6a66708>,\n",
       " <matplotlib.lines.Line2D at 0x1c4c6a661c8>,\n",
       " <matplotlib.lines.Line2D at 0x1c4c6a662c8>,\n",
       " <matplotlib.lines.Line2D at 0x1c4c6a61b08>,\n",
       " <matplotlib.lines.Line2D at 0x1c4c6a61e88>,\n",
       " <matplotlib.lines.Line2D at 0x1c4c66e7a88>,\n",
       " <matplotlib.lines.Line2D at 0x1c4c60ae508>,\n",
       " <matplotlib.lines.Line2D at 0x1c4c60ca808>,\n",
       " <matplotlib.lines.Line2D at 0x1c4c7d77b48>,\n",
       " <matplotlib.lines.Line2D at 0x1c4c7d77d08>,\n",
       " <matplotlib.lines.Line2D at 0x1c4c6a7e3c8>,\n",
       " <matplotlib.lines.Line2D at 0x1c4c7c6d8c8>,\n",
       " <matplotlib.lines.Line2D at 0x1c4c7c6a788>,\n",
       " <matplotlib.lines.Line2D at 0x1c4c626ab48>,\n",
       " <matplotlib.lines.Line2D at 0x1c4c7d90988>,\n",
       " <matplotlib.lines.Line2D at 0x1c4c7d90248>,\n",
       " <matplotlib.lines.Line2D at 0x1c4c7d904c8>,\n",
       " <matplotlib.lines.Line2D at 0x1c4c7d90748>,\n",
       " <matplotlib.lines.Line2D at 0x1c4c7d9c748>,\n",
       " <matplotlib.lines.Line2D at 0x1c4c7d9c948>,\n",
       " <matplotlib.lines.Line2D at 0x1c4c7d9cbc8>,\n",
       " <matplotlib.lines.Line2D at 0x1c4c7d9ce48>,\n",
       " <matplotlib.lines.Line2D at 0x1c4c7eb9108>,\n",
       " <matplotlib.lines.Line2D at 0x1c4c7eb9388>,\n",
       " <matplotlib.lines.Line2D at 0x1c4c7eb9608>,\n",
       " <matplotlib.lines.Line2D at 0x1c4c7eb9888>,\n",
       " <matplotlib.lines.Line2D at 0x1c4c7eb9b08>,\n",
       " <matplotlib.lines.Line2D at 0x1c4c7eb9d88>,\n",
       " <matplotlib.lines.Line2D at 0x1c4c7ebc048>,\n",
       " <matplotlib.lines.Line2D at 0x1c4c7ebc2c8>,\n",
       " <matplotlib.lines.Line2D at 0x1c4c7ebc548>,\n",
       " <matplotlib.lines.Line2D at 0x1c4c7ebc7c8>,\n",
       " <matplotlib.lines.Line2D at 0x1c4c7ebca48>,\n",
       " <matplotlib.lines.Line2D at 0x1c4c7ebccc8>,\n",
       " <matplotlib.lines.Line2D at 0x1c4c7ebcf48>,\n",
       " <matplotlib.lines.Line2D at 0x1c4c7ebf208>,\n",
       " <matplotlib.lines.Line2D at 0x1c4c7ebf488>,\n",
       " <matplotlib.lines.Line2D at 0x1c4c7ebf708>,\n",
       " <matplotlib.lines.Line2D at 0x1c4c7ebf988>,\n",
       " <matplotlib.lines.Line2D at 0x1c4c7ebfc08>,\n",
       " <matplotlib.lines.Line2D at 0x1c4c7ebfe88>,\n",
       " <matplotlib.lines.Line2D at 0x1c4c7ec2148>,\n",
       " <matplotlib.lines.Line2D at 0x1c4c7ec23c8>,\n",
       " <matplotlib.lines.Line2D at 0x1c4c7ec2648>,\n",
       " <matplotlib.lines.Line2D at 0x1c4c7ec28c8>,\n",
       " <matplotlib.lines.Line2D at 0x1c4c7ec2b48>,\n",
       " <matplotlib.lines.Line2D at 0x1c4c7ec2dc8>,\n",
       " <matplotlib.lines.Line2D at 0x1c4c7ec5088>,\n",
       " <matplotlib.lines.Line2D at 0x1c4c7ec5308>,\n",
       " <matplotlib.lines.Line2D at 0x1c4c7ec5588>,\n",
       " <matplotlib.lines.Line2D at 0x1c4c7ec5808>,\n",
       " <matplotlib.lines.Line2D at 0x1c4c7ec5a88>,\n",
       " <matplotlib.lines.Line2D at 0x1c4c7ec5d08>,\n",
       " <matplotlib.lines.Line2D at 0x1c4c7ec5f88>,\n",
       " <matplotlib.lines.Line2D at 0x1c4c7ec7248>,\n",
       " <matplotlib.lines.Line2D at 0x1c4c7ec74c8>,\n",
       " <matplotlib.lines.Line2D at 0x1c4c7ec7748>,\n",
       " <matplotlib.lines.Line2D at 0x1c4c7ec79c8>,\n",
       " <matplotlib.lines.Line2D at 0x1c4c7ec7c48>,\n",
       " <matplotlib.lines.Line2D at 0x1c4c7ec7ec8>,\n",
       " <matplotlib.lines.Line2D at 0x1c4c7eca188>,\n",
       " <matplotlib.lines.Line2D at 0x1c4c7eca408>,\n",
       " <matplotlib.lines.Line2D at 0x1c4c7eca688>,\n",
       " <matplotlib.lines.Line2D at 0x1c4c7eca908>,\n",
       " <matplotlib.lines.Line2D at 0x1c4c7ecab88>,\n",
       " <matplotlib.lines.Line2D at 0x1c4c7ecae08>,\n",
       " <matplotlib.lines.Line2D at 0x1c4c7ecd0c8>,\n",
       " <matplotlib.lines.Line2D at 0x1c4c7ecd348>,\n",
       " <matplotlib.lines.Line2D at 0x1c4c7ecd5c8>,\n",
       " <matplotlib.lines.Line2D at 0x1c4c7ecd848>,\n",
       " <matplotlib.lines.Line2D at 0x1c4c7ecdac8>,\n",
       " <matplotlib.lines.Line2D at 0x1c4c7ecdd48>,\n",
       " <matplotlib.lines.Line2D at 0x1c4c7ecdfc8>,\n",
       " <matplotlib.lines.Line2D at 0x1c4c7ed1288>,\n",
       " <matplotlib.lines.Line2D at 0x1c4c7ed1508>,\n",
       " <matplotlib.lines.Line2D at 0x1c4c7ed1788>,\n",
       " <matplotlib.lines.Line2D at 0x1c4c7ed1a08>,\n",
       " <matplotlib.lines.Line2D at 0x1c4c7ed1c88>,\n",
       " <matplotlib.lines.Line2D at 0x1c4c7ed1f08>,\n",
       " <matplotlib.lines.Line2D at 0x1c4c7ed41c8>,\n",
       " <matplotlib.lines.Line2D at 0x1c4c7ed4448>,\n",
       " <matplotlib.lines.Line2D at 0x1c4c7ed46c8>,\n",
       " <matplotlib.lines.Line2D at 0x1c4c7ed4948>]"
      ]
     },
     "execution_count": 24,
     "metadata": {},
     "output_type": "execute_result"
    },
    {
     "data": {
      "image/png": "[encoded data removed]",
      "text/plain": [
       "<Figure size 432x288 with 1 Axes>"
      ]
     },
     "metadata": {
      "needs_background": "light"
     },
     "output_type": "display_data"
    }
   ],
   "source": [
    "plt.plot(ages.)"
   ]
  },
  {
   "cell_type": "code",
   "execution_count": null,
   "metadata": {},
   "outputs": [],
   "source": []
  }
 ],
 "metadata": {
  "kernelspec": {
   "display_name": "TensorFlow 2.0",
   "language": "python",
   "name": "tensorflow"
  },
  "language_info": {
   "codemirror_mode": {
    "name": "ipython",
    "version": 3
   },
   "file_extension": ".py",
   "mimetype": "text/x-python",
   "name": "python",
   "nbconvert_exporter": "python",
   "pygments_lexer": "ipython3",
   "version": "3.7.5"
  }
 },
 "nbformat": 4,
 "nbformat_minor": 2
}
